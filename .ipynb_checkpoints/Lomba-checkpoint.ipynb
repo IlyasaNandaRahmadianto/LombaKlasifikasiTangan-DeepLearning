{
 "cells": [
  {
   "cell_type": "code",
   "execution_count": 1,
   "id": "9c407ad4",
   "metadata": {},
   "outputs": [],
   "source": [
    "import matplotlib.pyplot as plt\n",
    "from tensorflow.keras.models import Sequential\n",
    "from tensorflow.keras.layers import Conv2D, MaxPooling2D, Dense, Flatten, Dropout"
   ]
  },
  {
   "cell_type": "code",
   "execution_count": 2,
   "id": "0395d1ae",
   "metadata": {},
   "outputs": [],
   "source": [
    "import os\n",
    "import numpy as np\n",
    "import tensorflow as tf\n",
    "from tensorflow.keras.preprocessing.image import load_img, img_to_array\n",
    "from PIL import Image\n",
    "import random"
   ]
  },
  {
   "cell_type": "code",
   "execution_count": 4,
   "id": "ae7d5df6",
   "metadata": {},
   "outputs": [],
   "source": [
    "# Tentukan dimensi gambar yang diharapkan oleh model\n",
    "target_width, target_height = 224, 224\n",
    "\n",
    "# Inisialisasi list untuk menyimpan gambar dan label train\n",
    "train_images = []\n",
    "train_labels = []\n",
    "\n",
    "# Path ke folder dataset train\n",
    "train_dataset_path = \"C:/Users/ASUS/Downloads/TUGASKU/jupyter/lomba/dataset/train\"\n",
    "\n",
    "# Daftar kelas berdasarkan folder train\n",
    "classes = os.listdir(train_dataset_path)\n",
    "\n",
    "# Mengolah data gambar train\n",
    "for class_name in classes:\n",
    "    train_class_path = os.path.join(train_dataset_path, class_name)\n",
    "    for image_name in os.listdir(train_class_path):\n",
    "        image_path = os.path.join(train_class_path, image_name)\n",
    "        image = load_img(image_path, target_size=(target_width, target_height))\n",
    "        image_array = img_to_array(image)\n",
    "        train_images.append(image_array)\n",
    "        train_labels.append(class_name)\n",
    "\n",
    "# Mengubah list menjadi array numpy\n",
    "train_images = np.array(train_images)\n",
    "train_labels = np.array(train_labels)\n",
    "\n",
    "# Normalisasi data gambar train\n",
    "train_images = train_images.astype('float32') / 255.0\n",
    "\n",
    "# Mengubah label train menjadi format one-hot encoding\n",
    "from sklearn.preprocessing import LabelEncoder\n",
    "\n",
    "label_encoder = LabelEncoder()\n",
    "train_labels = label_encoder.fit_transform(train_labels)\n",
    "train_labels = tf.keras.utils.to_categorical(train_labels, num_classes=len(classes))\n"
   ]
  },
  {
   "cell_type": "code",
   "execution_count": 6,
   "id": "c94f61cd",
   "metadata": {},
   "outputs": [
    {
     "name": "stdout",
     "output_type": "stream",
     "text": [
      "Jumlah data test: 20\n",
      "Jumlah label test: 20\n"
     ]
    }
   ],
   "source": [
    "import cv2\n",
    "# Tentukan path direktori data test\n",
    "test_data_dir = 'C:/Users/ASUS/Downloads/TUGASKU/jupyter/lomba/dataset/test'\n",
    "\n",
    "# Inisialisasi list untuk menyimpan data dan label\n",
    "x_test = []\n",
    "y_test = []\n",
    "\n",
    "# Loop melalui setiap file dalam direktori data test\n",
    "for filename in os.listdir(test_data_dir):\n",
    "    if filename.endswith('.jpg'):  # Hanya memproses file dengan ekstensi .jpg\n",
    "        file_path = os.path.join(test_data_dir, filename)\n",
    "        image = cv2.imread(file_path)  # Membaca gambar menggunakan OpenCV\n",
    "        image = cv2.cvtColor(image, cv2.COLOR_BGR2RGB)  # Konversi dari BGR ke RGB (opsional, tergantung kebutuhan)\n",
    "\n",
    "        # Lakukan praproses gambar jika diperlukan (misalnya, resize, normalisasi, dsb.)\n",
    "\n",
    "        # Tambahkan gambar ke x_test\n",
    "        x_test.append(image)\n",
    "\n",
    "        # Ambil label dari nama file (misalnya, jika nama file adalah \"cat.jpg\", maka labelnya adalah \"cat\")\n",
    "        label = os.path.splitext(filename)[0]\n",
    "        y_test.append(label)\n",
    "\n",
    "# Konversi x_test dan y_test ke dalam format array numpy\n",
    "x_test = np.array(x_test)\n",
    "y_test = np.array(y_test)\n",
    "x_test = x_test.astype('float32') / 255.0\n",
    "# Tampilkan jumlah data test\n",
    "print(\"Jumlah data test:\", len(x_test))\n",
    "print(\"Jumlah label test:\", len(y_test))\n"
   ]
  },
  {
   "cell_type": "code",
   "execution_count": 7,
   "id": "52d54d3d",
   "metadata": {},
   "outputs": [
    {
     "name": "stdout",
     "output_type": "stream",
     "text": [
      "Jumlah baris pada ytrain: (80, 224, 224, 3)\n",
      "Jumlah kolom pada ytrain: (80, 224, 224, 3)\n"
     ]
    }
   ],
   "source": [
    "num_rows, num_columns = train_images.shape, train_images.shape\n",
    "print(\"Jumlah baris pada ytrain:\", num_rows)\n",
    "print(\"Jumlah kolom pada ytrain:\", num_columns)"
   ]
  },
  {
   "cell_type": "code",
   "execution_count": 8,
   "id": "ffe9d638",
   "metadata": {},
   "outputs": [],
   "source": [
    "from tensorflow.keras.optimizers import Adam\n",
    "# Inisialisasi model\n",
    "model = Sequential()\n",
    "\n",
    "#Menambahkan layer Convolutional\n",
    "model.add(Conv2D(32, kernel_size=(3, 3), activation='relu', input_shape=(target_width, target_height, 3)))\n",
    "model.add(MaxPooling2D(pool_size=(2, 2)))\n",
    "\n",
    "model.add(Conv2D(64, kernel_size=(3, 3), activation='relu'))\n",
    "model.add(MaxPooling2D(pool_size=(2, 2)))\n",
    "\n",
    "model.add(Conv2D(128, kernel_size=(3, 3), activation='relu'))\n",
    "model.add(MaxPooling2D(pool_size=(2, 2)))\n",
    "\n",
    "# Flatten layer untuk mengubah output menjadi vektor\n",
    "model.add(Flatten())\n",
    "\n",
    "# Menambahkan layer Dense (fully connected)\n",
    "model.add(Dense(128, activation='relu'))\n",
    "model.add(Dense(len(classes), activation='softmax'))\n",
    "\n",
    "# Mengompilasi model\n",
    "model.compile(loss='categorical_crossentropy', optimizer='adam', metrics=['accuracy'])"
   ]
  },
  {
   "cell_type": "code",
   "execution_count": 16,
   "id": "d45358af",
   "metadata": {},
   "outputs": [
    {
     "name": "stdout",
     "output_type": "stream",
     "text": [
      "You must install pydot (`pip install pydot`) and install graphviz (see instructions at https://graphviz.gitlab.io/download/) for plot_model to work.\n"
     ]
    }
   ],
   "source": [
    "from keras.utils.vis_utils import plot_model\n",
    "plot_model(model, to_file='model_plot.png', show_shapes=True, show_layer_names=True)"
   ]
  },
  {
   "cell_type": "code",
   "execution_count": 17,
   "id": "4b6aeb28",
   "metadata": {},
   "outputs": [
    {
     "name": "stdout",
     "output_type": "stream",
     "text": [
      "Epoch 1/30\n",
      "2/2 [==============================] - 4s 2s/step - loss: 3.3480 - accuracy: 0.0938 - val_loss: 6.0790 - val_accuracy: 0.0000e+00\n",
      "Epoch 2/30\n",
      "2/2 [==============================] - 3s 1s/step - loss: 2.4065 - accuracy: 0.1250 - val_loss: 3.7732 - val_accuracy: 0.0000e+00\n",
      "Epoch 3/30\n",
      "2/2 [==============================] - 2s 1s/step - loss: 2.1798 - accuracy: 0.1406 - val_loss: 3.1249 - val_accuracy: 0.0000e+00\n",
      "Epoch 4/30\n",
      "2/2 [==============================] - 3s 1s/step - loss: 2.1580 - accuracy: 0.2656 - val_loss: 4.0328 - val_accuracy: 0.0000e+00\n",
      "Epoch 5/30\n",
      "2/2 [==============================] - 2s 1s/step - loss: 2.0375 - accuracy: 0.1250 - val_loss: 5.1909 - val_accuracy: 0.0000e+00\n",
      "Epoch 6/30\n",
      "2/2 [==============================] - 3s 1s/step - loss: 1.8948 - accuracy: 0.3906 - val_loss: 6.1876 - val_accuracy: 0.0000e+00\n",
      "Epoch 7/30\n",
      "2/2 [==============================] - 3s 2s/step - loss: 1.6598 - accuracy: 0.7812 - val_loss: 7.7669 - val_accuracy: 0.0000e+00\n",
      "Epoch 8/30\n",
      "2/2 [==============================] - 3s 1s/step - loss: 1.4370 - accuracy: 0.5781 - val_loss: 8.9623 - val_accuracy: 0.0000e+00\n",
      "Epoch 9/30\n",
      "2/2 [==============================] - 3s 1s/step - loss: 1.0761 - accuracy: 0.7500 - val_loss: 11.9544 - val_accuracy: 0.0000e+00\n",
      "Epoch 10/30\n",
      "2/2 [==============================] - 3s 1s/step - loss: 0.5872 - accuracy: 0.8906 - val_loss: 15.5551 - val_accuracy: 0.0000e+00\n",
      "Epoch 11/30\n",
      "2/2 [==============================] - 3s 1s/step - loss: 0.3966 - accuracy: 0.9219 - val_loss: 15.6800 - val_accuracy: 0.0000e+00\n",
      "Epoch 12/30\n",
      "2/2 [==============================] - 3s 1s/step - loss: 0.1447 - accuracy: 1.0000 - val_loss: 20.4799 - val_accuracy: 0.0000e+00\n",
      "Epoch 13/30\n",
      "2/2 [==============================] - 3s 1s/step - loss: 0.1367 - accuracy: 0.9531 - val_loss: 21.2341 - val_accuracy: 0.0000e+00\n",
      "Epoch 14/30\n",
      "2/2 [==============================] - 3s 2s/step - loss: 0.0534 - accuracy: 0.9844 - val_loss: 24.4279 - val_accuracy: 0.0000e+00\n",
      "Epoch 15/30\n",
      "2/2 [==============================] - 3s 2s/step - loss: 0.0285 - accuracy: 0.9844 - val_loss: 31.6835 - val_accuracy: 0.0000e+00\n",
      "Epoch 16/30\n",
      "2/2 [==============================] - 3s 1s/step - loss: 0.0199 - accuracy: 1.0000 - val_loss: 35.0332 - val_accuracy: 0.0000e+00\n",
      "Epoch 17/30\n",
      "2/2 [==============================] - 3s 2s/step - loss: 0.0033 - accuracy: 1.0000 - val_loss: 37.4401 - val_accuracy: 0.0000e+00\n",
      "Epoch 18/30\n",
      "2/2 [==============================] - 3s 2s/step - loss: 0.0016 - accuracy: 1.0000 - val_loss: 43.3787 - val_accuracy: 0.0000e+00\n",
      "Epoch 19/30\n",
      "2/2 [==============================] - 3s 2s/step - loss: 0.0015 - accuracy: 1.0000 - val_loss: 51.5293 - val_accuracy: 0.0000e+00\n",
      "Epoch 20/30\n",
      "2/2 [==============================] - 3s 2s/step - loss: 0.0013 - accuracy: 1.0000 - val_loss: 55.0950 - val_accuracy: 0.0000e+00\n",
      "Epoch 21/30\n",
      "2/2 [==============================] - 3s 2s/step - loss: 2.6262e-04 - accuracy: 1.0000 - val_loss: 53.5211 - val_accuracy: 0.0000e+00\n",
      "Epoch 22/30\n",
      "2/2 [==============================] - 3s 2s/step - loss: 8.5634e-05 - accuracy: 1.0000 - val_loss: 52.2089 - val_accuracy: 0.0000e+00\n",
      "Epoch 23/30\n",
      "2/2 [==============================] - 3s 1s/step - loss: 2.3386e-05 - accuracy: 1.0000 - val_loss: 51.5273 - val_accuracy: 0.0000e+00\n",
      "Epoch 24/30\n",
      "2/2 [==============================] - 3s 1s/step - loss: 2.1103e-05 - accuracy: 1.0000 - val_loss: 51.3012 - val_accuracy: 0.0000e+00\n",
      "Epoch 25/30\n",
      "2/2 [==============================] - 3s 2s/step - loss: 2.6587e-05 - accuracy: 1.0000 - val_loss: 51.4623 - val_accuracy: 0.0000e+00\n",
      "Epoch 26/30\n",
      "2/2 [==============================] - 3s 2s/step - loss: 3.2929e-05 - accuracy: 1.0000 - val_loss: 51.8170 - val_accuracy: 0.0000e+00\n",
      "Epoch 27/30\n",
      "2/2 [==============================] - 3s 2s/step - loss: 3.1536e-05 - accuracy: 1.0000 - val_loss: 52.2866 - val_accuracy: 0.0000e+00\n",
      "Epoch 28/30\n",
      "2/2 [==============================] - 3s 1s/step - loss: 2.3498e-05 - accuracy: 1.0000 - val_loss: 52.7933 - val_accuracy: 0.0000e+00\n",
      "Epoch 29/30\n",
      "2/2 [==============================] - 3s 1s/step - loss: 1.9556e-05 - accuracy: 1.0000 - val_loss: 53.3203 - val_accuracy: 0.0000e+00\n",
      "Epoch 30/30\n",
      "2/2 [==============================] - 3s 2s/step - loss: 1.5606e-05 - accuracy: 1.0000 - val_loss: 53.8779 - val_accuracy: 0.0000e+00\n"
     ]
    },
    {
     "data": {
      "text/plain": [
       "<keras.callbacks.History at 0x23656776680>"
      ]
     },
     "execution_count": 17,
     "metadata": {},
     "output_type": "execute_result"
    }
   ],
   "source": [
    "model.fit(train_images, train_labels, batch_size=32, epochs=30, validation_split=0.2)"
   ]
  },
  {
   "cell_type": "code",
   "execution_count": 18,
   "id": "19aa9f6d",
   "metadata": {},
   "outputs": [
    {
     "name": "stdout",
     "output_type": "stream",
     "text": [
      "Model: \"sequential\"\n",
      "_________________________________________________________________\n",
      " Layer (type)                Output Shape              Param #   \n",
      "=================================================================\n",
      " conv2d (Conv2D)             (None, 222, 222, 32)      896       \n",
      "                                                                 \n",
      " max_pooling2d (MaxPooling2D  (None, 111, 111, 32)     0         \n",
      " )                                                               \n",
      "                                                                 \n",
      " conv2d_1 (Conv2D)           (None, 109, 109, 64)      18496     \n",
      "                                                                 \n",
      " max_pooling2d_1 (MaxPooling  (None, 54, 54, 64)       0         \n",
      " 2D)                                                             \n",
      "                                                                 \n",
      " conv2d_2 (Conv2D)           (None, 52, 52, 128)       73856     \n",
      "                                                                 \n",
      " max_pooling2d_2 (MaxPooling  (None, 26, 26, 128)      0         \n",
      " 2D)                                                             \n",
      "                                                                 \n",
      " flatten (Flatten)           (None, 86528)             0         \n",
      "                                                                 \n",
      " dense (Dense)               (None, 128)               11075712  \n",
      "                                                                 \n",
      " dense_1 (Dense)             (None, 10)                1290      \n",
      "                                                                 \n",
      "=================================================================\n",
      "Total params: 11,170,250\n",
      "Trainable params: 11,170,250\n",
      "Non-trainable params: 0\n",
      "_________________________________________________________________\n"
     ]
    }
   ],
   "source": [
    "model.summary()"
   ]
  },
  {
   "cell_type": "code",
   "execution_count": 19,
   "id": "24d483d4",
   "metadata": {},
   "outputs": [
    {
     "name": "stdout",
     "output_type": "stream",
     "text": [
      "3/3 [==============================] - 1s 214ms/step - loss: 10.7756 - accuracy: 0.8000\n",
      "Akurasi pada data test: 80.00%\n"
     ]
    }
   ],
   "source": [
    "# Melakukan evaluasi model pada data test\n",
    "loss, accuracy = model.evaluate(train_images, train_labels)\n",
    "\n",
    "# Menampilkan akurasi pada data test\n",
    "print(\"Akurasi pada data test: {:.2f}%\".format(accuracy * 100))"
   ]
  },
  {
   "cell_type": "code",
   "execution_count": 20,
   "id": "3b4ff908",
   "metadata": {},
   "outputs": [
    {
     "data": {
      "text/plain": [
       "<matplotlib.image.AxesImage at 0x23656bc9600>"
      ]
     },
     "execution_count": 20,
     "metadata": {},
     "output_type": "execute_result"
    },
    {
     "data": {
      "image/png": "[encoded data removed]",
      "text/plain": [
       "<Figure size 640x480 with 1 Axes>"
      ]
     },
     "metadata": {},
     "output_type": "display_data"
    }
   ],
   "source": [
    "idx = random.randint(0, len(train_images))\n",
    "plt.imshow(train_images[idx,:])"
   ]
  },
  {
   "cell_type": "code",
   "execution_count": 21,
   "id": "bca2c1f8",
   "metadata": {},
   "outputs": [],
   "source": [
    "# # Path ke folder dataset test\n",
    "# test_dataset_path = \"/content/drive/MyDrive/dataset/test\"\n",
    "\n",
    "# # Inisialisasi list untuk menyimpan gambar test\n",
    "# test_images = []\n",
    "\n",
    "# # Mengolah data gambar test\n",
    "# for image_name in os.listdir(test_dataset_path):\n",
    "#     image_path = os.path.join(test_dataset_path, image_name)\n",
    "#     image = load_img(image_path, target_size=(target_width, target_height))\n",
    "#     image_array = img_to_array(image)\n",
    "#     test_images.append(image_array)\n",
    "\n",
    "# # Mengubah list menjadi array numpy\n",
    "# test_images = np.array(test_images)\n",
    "# # Normalisasi data gambar test\n",
    "# test_images = test_images.astype('float32') / 255.0\n",
    "# # idx2 = random.randint(0, len(test_images))\n",
    "# # plt.imshow(test_images[idx2, :])\n",
    "# # plt.show()\n",
    "# # input_image = np.expand_dims(test_images[idx2], axis=0)\n",
    "# # Melakukan prediksi pada data test\n",
    "# predictions = model.predict(test_images)\n",
    "\n",
    "# # Mendapatkan label hasil prediksi\n",
    "# predicted_labels = label_encoder.inverse_transform(np.argmax(predictions, axis=1))\n",
    "\n",
    "# # for j in range(len(predicted_labels)):\n",
    "# #     #if predictions[0][j] >= 0:\n",
    "# #       print('GAMBAR TELAPAK TANGAN :', predicted_labels[j])\n",
    "\n",
    "\n",
    "# # Menampilkan hasil prediksi\n",
    "# for i in range(len(predicted_labels)):\n",
    "#     print(f\"Gambar {i+1} {image_name}: {predicted_labels[i]}\")\n"
   ]
  },
  {
   "cell_type": "code",
   "execution_count": 22,
   "id": "8ec05461",
   "metadata": {},
   "outputs": [],
   "source": [
    "# import glob\n",
    "# # Path ke folder dataset test\n",
    "# test_files = glob.glob('/content/drive/MyDrive/dataset/test/*.jpg')\n",
    "\n",
    "# # Inisialisasi list untuk menyimpan gambar test\n",
    "# test_images = []\n",
    "\n",
    "# image_names = [os.path(file) for file in test_files]\n",
    "# # Mengolah data gambar test\n",
    "# # for image_name in os.listdir(test_dataset_path):\n",
    "# #     image_path = os.path.join(test_dataset_path, image_name)\n",
    "# for test_file in image_name:\n",
    "#   image = load_img(test_file, target_size=(target_width, target_height))\n",
    "#   image_array = img_to_array(image)\n",
    "#   test_images.append(image_array)\n",
    "\n",
    "# # Mengubah list menjadi array numpy\n",
    "# test_images = np.array(test_images)\n",
    "# # Normalisasi data gambar test\n",
    "# test_images = test_images.astype('float32') / 255.0\n",
    "# # idx2 = random.randint(0, len(test_images))\n",
    "# # plt.imshow(test_images[idx2, :])\n",
    "# # plt.show()\n",
    "# # input_image = np.expand_dims(test_images[idx2], axis=0)\n",
    "# # Melakukan prediksi pada data test\n",
    "# predictions = model.predict(test_images)\n",
    "\n",
    "# # Mendapatkan label hasil prediksi\n",
    "# predicted_labels = label_encoder.inverse_transform(np.argmax(predictions, axis=1))\n",
    "\n",
    "# # for j in range(len(predicted_labels)):\n",
    "# #     #if predictions[0][j] >= 0:\n",
    "# #       print('GAMBAR TELAPAK TANGAN :', predicted_labels[j])\n",
    "\n",
    "\n",
    "# # Menampilkan hasil prediksi\n",
    "# for i in range(len(predicted_labels)):\n",
    "#   #print(image, predicted_labels[i])\n",
    "#     print(f\" gambar {test_file}: {predicted_labels[i]}\")\n"
   ]
  },
  {
   "cell_type": "code",
   "execution_count": 23,
   "id": "a88f6c40",
   "metadata": {},
   "outputs": [
    {
     "name": "stdout",
     "output_type": "stream",
     "text": [
      "1/1 [==============================] - 0s 285ms/step\n",
      "Image: C:/Users/ASUS/Downloads/TUGASKU/jupyter/lomba/dataset/test\\2023-06-08_165712-832192.jpg, Predicted Class: syifa\n",
      "Image: C:/Users/ASUS/Downloads/TUGASKU/jupyter/lomba/dataset/test\\2023-06-08_165712-834185.jpg, Predicted Class: indah\n",
      "Image: C:/Users/ASUS/Downloads/TUGASKU/jupyter/lomba/dataset/test\\2023-06-08_165712-837188.jpg, Predicted Class: ilyas\n",
      "Image: C:/Users/ASUS/Downloads/TUGASKU/jupyter/lomba/dataset/test\\2023-06-08_165712-840187.jpg, Predicted Class: mitha\n",
      "Image: C:/Users/ASUS/Downloads/TUGASKU/jupyter/lomba/dataset/test\\2023-06-08_165712-842187.jpg, Predicted Class: syifa\n",
      "Image: C:/Users/ASUS/Downloads/TUGASKU/jupyter/lomba/dataset/test\\2023-06-08_165712-847194.jpg, Predicted Class: ilyas\n",
      "Image: C:/Users/ASUS/Downloads/TUGASKU/jupyter/lomba/dataset/test\\2023-06-08_165712-848195.jpg, Predicted Class: naufal\n",
      "Image: C:/Users/ASUS/Downloads/TUGASKU/jupyter/lomba/dataset/test\\2023-06-08_165712-850192.jpg, Predicted Class: mitha\n",
      "Image: C:/Users/ASUS/Downloads/TUGASKU/jupyter/lomba/dataset/test\\2023-06-08_165712-851194.jpg, Predicted Class: allan\n",
      "Image: C:/Users/ASUS/Downloads/TUGASKU/jupyter/lomba/dataset/test\\2023-06-08_165712-853194.jpg, Predicted Class: faiz\n",
      "Image: C:/Users/ASUS/Downloads/TUGASKU/jupyter/lomba/dataset/test\\2023-06-08_165712-855254.jpg, Predicted Class: mitha\n",
      "Image: C:/Users/ASUS/Downloads/TUGASKU/jupyter/lomba/dataset/test\\2023-06-08_165712-857197.jpg, Predicted Class: naufal\n",
      "Image: C:/Users/ASUS/Downloads/TUGASKU/jupyter/lomba/dataset/test\\2023-06-08_165712-859263.jpg, Predicted Class: indah\n",
      "Image: C:/Users/ASUS/Downloads/TUGASKU/jupyter/lomba/dataset/test\\2023-06-08_165712-862263.jpg, Predicted Class: naufal\n",
      "Image: C:/Users/ASUS/Downloads/TUGASKU/jupyter/lomba/dataset/test\\2023-06-08_165712-865271.jpg, Predicted Class: faiz\n",
      "Image: C:/Users/ASUS/Downloads/TUGASKU/jupyter/lomba/dataset/test\\2023-06-08_165712-867269.jpg, Predicted Class: allan\n",
      "Image: C:/Users/ASUS/Downloads/TUGASKU/jupyter/lomba/dataset/test\\2023-06-08_165712-869264.jpg, Predicted Class: syifa\n",
      "Image: C:/Users/ASUS/Downloads/TUGASKU/jupyter/lomba/dataset/test\\2023-06-08_165712-871277.jpg, Predicted Class: mitha\n",
      "Image: C:/Users/ASUS/Downloads/TUGASKU/jupyter/lomba/dataset/test\\2023-06-08_165712-873262.jpg, Predicted Class: mitha\n",
      "Image: C:/Users/ASUS/Downloads/TUGASKU/jupyter/lomba/dataset/test\\2023-06-08_165712-875279.jpg, Predicted Class: syifa\n"
     ]
    }
   ],
   "source": [
    "import glob\n",
    "import cv2\n",
    "import numpy as np\n",
    "from tensorflow.keras.models import load_model\n",
    "\n",
    "# Get the file paths of test images using glob\n",
    "test_image_paths = glob.glob('C:/Users/ASUS/Downloads/TUGASKU/jupyter/lomba/dataset/test/*.jpg')\n",
    "\n",
    "# Initialize lists to store test data and predictions\n",
    "test_images = []\n",
    "\n",
    "\n",
    "# Iterate over the test image paths\n",
    "for image_path in test_image_paths:\n",
    "    # Load and preprocess the image\n",
    "    image = cv2.imread(image_path)\n",
    "    image = cv2.resize(image, (224, 224))  # Adjust the size as per your model requirements\n",
    "    image = image / 255.0  # Normalize the image\n",
    "    test_images.append(image)\n",
    "\n",
    "# Convert the list of images to a NumPy array\n",
    "test_images = np.array(test_images)\n",
    "predictions = model.predict(test_images)\n",
    "\n",
    "# Mendapatkan label hasil prediksi\n",
    "predicted_labels = label_encoder.inverse_transform(np.argmax(predictions, axis=1))\n",
    "\n",
    "# Process the predictions\n",
    "# for i, prediction in enumerate(predictions):\n",
    "for i in range(len(predicted_labels)):\n",
    "    # class_index = np.argmax(prediction)\n",
    "    # class_name = classes[class_index]\n",
    "    # confidence = prediction[class_index]\n",
    "    print(f\"Image: {test_image_paths[i]}, Predicted Class: {predicted_labels[i]}\")\n"
   ]
  },
  {
   "cell_type": "code",
   "execution_count": 24,
   "id": "1c31a2f8",
   "metadata": {},
   "outputs": [
    {
     "name": "stdout",
     "output_type": "stream",
     "text": [
      "1/1 [==============================] - 0s 188ms/step\n",
      "Akurasi: 0.00%\n"
     ]
    },
    {
     "name": "stderr",
     "output_type": "stream",
     "text": [
      "C:\\Users\\ASUS\\AppData\\Local\\Temp\\ipykernel_12864\\2458103590.py:19: DeprecationWarning: elementwise comparison failed; this will raise an error in the future.\n",
      "  accuracy = np.mean(y_pred == y_true)\n"
     ]
    }
   ],
   "source": [
    "import numpy as np\n",
    "from tensorflow.keras.models import load_model\n",
    "from tensorflow.keras.utils import to_categorical\n",
    "\n",
    "\n",
    "# Melakukan prediksi menggunakan model pada data test\n",
    "y_pred = model.predict(test_images)\n",
    "\n",
    "# Mengambil indeks label dengan probabilitas tertinggi sebagai prediksi\n",
    "y_pred = np.argmax(y_pred, axis=1)\n",
    "\n",
    "# Mengubah label kategorikal ke dalam bentuk one-hot encoding\n",
    "y_true = to_categorical(predictions)\n",
    "\n",
    "# Mengambil indeks label dengan nilai 1 sebagai label sebenarnya\n",
    "y_true = np.argmax(y_true, axis=1)\n",
    "\n",
    "# Menghitung akurasi\n",
    "accuracy = np.mean(y_pred == y_true)\n",
    "\n",
    "# Menampilkan akurasi\n",
    "print(\"Akurasi: {:.2f}%\".format(accuracy * 100))\n"
   ]
  },
  {
   "cell_type": "code",
   "execution_count": null,
   "id": "c52611f1",
   "metadata": {},
   "outputs": [],
   "source": []
  }
 ],
 "metadata": {
  "kernelspec": {
   "display_name": "Python 3 (ipykernel)",
   "language": "python",
   "name": "python3"
  },
  "language_info": {
   "codemirror_mode": {
    "name": "ipython",
    "version": 3
   },
   "file_extension": ".py",
   "mimetype": "text/x-python",
   "name": "python",
   "nbconvert_exporter": "python",
   "pygments_lexer": "ipython3",
   "version": "3.10.9"
  }
 },
 "nbformat": 4,
 "nbformat_minor": 5
}
